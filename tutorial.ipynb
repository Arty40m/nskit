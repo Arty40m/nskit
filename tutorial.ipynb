{
 "cells": [
  {
   "cell_type": "code",
   "execution_count": 1,
   "id": "d4a3c5c1",
   "metadata": {},
   "outputs": [],
   "source": [
    "from nskit import *"
   ]
  },
  {
   "attachments": {},
   "cell_type": "markdown",
   "id": "7f1997e9",
   "metadata": {},
   "source": [
    "# Parse structure into Nucleic Acid object "
   ]
  },
  {
   "attachments": {},
   "cell_type": "markdown",
   "id": "7b69cc09",
   "metadata": {},
   "source": [
    "**NucleicAcid** is a key object of nskit package, which contains nucleic acid as a graph.</br>\n",
    "You can parse nucleic base sequence and DotBracket secondary structure using **NA** function.</br>\n",
    "**NA** will automatically validate sequence and structure. Additional parameters modify parsing process:"
   ]
  },
  {
   "cell_type": "code",
   "execution_count": 2,
   "id": "e061211e",
   "metadata": {},
   "outputs": [
    {
     "name": "stdout",
     "output_type": "stream",
     "text": [
      "Help on function NA in module nskit.parse_na:\n",
      "\n",
      "NA(a: Union[str, nskit.nucleic_acid.NucleicAcid], b: Union[str, NoneType] = None, /, *, name: Union[str, NoneType] = None, meta: Union[dict, NoneType] = None, filter_linear_structures: bool = False, ignore_unclosed_bonds: bool = False, upper_sequence: bool = True) -> nskit.nucleic_acid.NucleicAcid\n",
      "    Parse dotbracket strings into NucleicAcid.\n",
      "    \n",
      "    :param a: sequence or structure if sequence is not provided.\n",
      "    :param b: structure if sequence is provided.\n",
      "    :param name: na name.\n",
      "    :param meta: dictionary of meta information convertable to string.\n",
      "    :param filter_linear_structures: raise error on structure with no complementary bonds. Default - False.  \n",
      "    :param ignore_unclosed_bonds: omit single unpaired parentheses without raising error. Default - False.\n",
      "    :param upper_sequence: upper sequence characters. Default - True.\n",
      "    \n",
      "    :return: NucleicAcid object.\n",
      "\n"
     ]
    }
   ],
   "source": [
    "help(NA)"
   ]
  },
  {
   "cell_type": "code",
   "execution_count": 3,
   "id": "60c84b6c",
   "metadata": {},
   "outputs": [
    {
     "name": "stdout",
     "output_type": "stream",
     "text": [
      "seq1\n",
      "AUUGCGCGUGA\n",
      "None\n"
     ]
    }
   ],
   "source": [
    "# Only sequence\n",
    "na = NA('AUUGCGCGUGA', name='seq1')\n",
    "print(na)"
   ]
  },
  {
   "cell_type": "code",
   "execution_count": 4,
   "id": "e4aaec72",
   "metadata": {},
   "outputs": [
    {
     "name": "stdout",
     "output_type": "stream",
     "text": [
      "seq2\n",
      "NNNNNNNNNNNNNNNNNNN\n",
      "...((..))..((..))..\n"
     ]
    }
   ],
   "source": [
    "# Only structure\n",
    "# NA will automaticaly fill sequence with \"N\"\n",
    "na = NA('...((..))..((..))..', name='seq2')\n",
    "print(na)"
   ]
  },
  {
   "cell_type": "code",
   "execution_count": 5,
   "id": "023dbefe",
   "metadata": {},
   "outputs": [
    {
     "name": "stdout",
     "output_type": "stream",
     "text": [
      "bpRNA_PDB_108\n",
      "GAAUUCCGGUCGACUCCGGAGAAACAAAGUCAA\n",
      "....(((((..[[[.)))))........]]]..\n",
      "{'cyclization_energy': 2.33456}\n"
     ]
    }
   ],
   "source": [
    "# Full dot bracket\n",
    "na = NA('GAAUUCCGGUCGACUCCGGAGAAACAAAGUCAA', \n",
    "        '....(((((..[[[.)))))........]]]..', \n",
    "        name='bpRNA_PDB_108', \n",
    "        meta={'cyclization_energy':2.33456} # dictionary of meta information\n",
    "       )\n",
    "print(na)\n",
    "print(na.meta)"
   ]
  },
  {
   "cell_type": "code",
   "execution_count": 6,
   "id": "d798818b",
   "metadata": {},
   "outputs": [
    {
     "data": {
      "image/svg+xml": [
       "<svg version = \"1.1\" baseProfile=\"full\" xmlns = \"http://www.w3.org/2000/svg\" xmlns:xlink = \"http://www.w3.org/1999/xlink\" xmlns:ev = \"http://www.w3.org/2001/xml-events\" height = \"253.125px\"  width = \"253.125px\">\n",
       "<g stroke-width=\"1.58\" fill=\"none\">\n",
       "    <circle cx=\"157.3px\" cy=\"238.1px\" r=\"8.6px\" stroke=\"#E74646\"/>\n",
       "    <circle cx=\"176.8px\" cy=\"230.8px\" r=\"8.6px\" stroke=\"#99627A\"/>\n",
       "    <circle cx=\"194.6px\" cy=\"220.2px\" r=\"8.6px\" stroke=\"#99627A\"/>\n",
       "    <circle cx=\"210.2px\" cy=\"206.5px\" r=\"8.6px\" stroke=\"#1F8A70\"/>\n",
       "    <circle cx=\"223.1px\" cy=\"190.3px\" r=\"8.6px\" stroke=\"#1F8A70\"/>\n",
       "    <circle cx=\"232.9px\" cy=\"172.0px\" r=\"8.6px\" stroke=\"#068DA9\"/>\n",
       "    <circle cx=\"239.3px\" cy=\"152.3px\" r=\"8.6px\" stroke=\"#068DA9\"/>\n",
       "    <circle cx=\"242.1px\" cy=\"131.8px\" r=\"8.6px\" stroke=\"#E74646\"/>\n",
       "    <circle cx=\"241.2px\" cy=\"111.0px\" r=\"8.6px\" stroke=\"#E74646\"/>\n",
       "    <circle cx=\"236.6px\" cy=\"90.8px\" r=\"8.6px\" stroke=\"#1F8A70\"/>\n",
       "    <circle cx=\"228.4px\" cy=\"71.7px\" r=\"8.6px\" stroke=\"#068DA9\"/>\n",
       "    <circle cx=\"217.0px\" cy=\"54.4px\" r=\"8.6px\" stroke=\"#E74646\"/>\n",
       "    <circle cx=\"202.7px\" cy=\"39.4px\" r=\"8.6px\" stroke=\"#99627A\"/>\n",
       "    <circle cx=\"185.9px\" cy=\"27.3px\" r=\"8.6px\" stroke=\"#068DA9\"/>\n",
       "    <circle cx=\"167.2px\" cy=\"18.3px\" r=\"8.6px\" stroke=\"#1F8A70\"/>\n",
       "    <circle cx=\"147.2px\" cy=\"12.7px\" r=\"8.6px\" stroke=\"#068DA9\"/>\n",
       "    <circle cx=\"126.6px\" cy=\"10.9px\" r=\"8.6px\" stroke=\"#068DA9\"/>\n",
       "    <circle cx=\"105.9px\" cy=\"12.7px\" r=\"8.6px\" stroke=\"#E74646\"/>\n",
       "    <circle cx=\"85.9px\" cy=\"18.3px\" r=\"8.6px\" stroke=\"#E74646\"/>\n",
       "    <circle cx=\"67.2px\" cy=\"27.3px\" r=\"8.6px\" stroke=\"#99627A\"/>\n",
       "    <circle cx=\"50.5px\" cy=\"39.4px\" r=\"8.6px\" stroke=\"#E74646\"/>\n",
       "    <circle cx=\"36.1px\" cy=\"54.4px\" r=\"8.6px\" stroke=\"#99627A\"/>\n",
       "    <circle cx=\"24.7px\" cy=\"71.7px\" r=\"8.6px\" stroke=\"#99627A\"/>\n",
       "    <circle cx=\"16.5px\" cy=\"90.8px\" r=\"8.6px\" stroke=\"#99627A\"/>\n",
       "    <circle cx=\"11.9px\" cy=\"111.0px\" r=\"8.6px\" stroke=\"#068DA9\"/>\n",
       "    <circle cx=\"11.0px\" cy=\"131.8px\" r=\"8.6px\" stroke=\"#99627A\"/>\n",
       "    <circle cx=\"13.8px\" cy=\"152.3px\" r=\"8.6px\" stroke=\"#99627A\"/>\n",
       "    <circle cx=\"20.2px\" cy=\"172.0px\" r=\"8.6px\" stroke=\"#99627A\"/>\n",
       "    <circle cx=\"30.0px\" cy=\"190.3px\" r=\"8.6px\" stroke=\"#E74646\"/>\n",
       "    <circle cx=\"42.9px\" cy=\"206.5px\" r=\"8.6px\" stroke=\"#1F8A70\"/>\n",
       "    <circle cx=\"58.6px\" cy=\"220.2px\" r=\"8.6px\" stroke=\"#068DA9\"/>\n",
       "    <circle cx=\"76.4px\" cy=\"230.8px\" r=\"8.6px\" stroke=\"#99627A\"/>\n",
       "    <circle cx=\"95.8px\" cy=\"238.1px\" r=\"8.6px\" stroke=\"#99627A\"/>\n",
       "</g>\n",
       "<g font-weight=\"bold\" font-size=\"13.77px\">\n",
       "    <text x=\"152.5\" y=\"242.9\">G</text>\n",
       "    <text x=\"171.9\" y=\"235.6\">A</text>\n",
       "    <text x=\"189.7\" y=\"225.0\">A</text>\n",
       "    <text x=\"205.4\" y=\"211.3\">U</text>\n",
       "    <text x=\"218.3\" y=\"195.1\">U</text>\n",
       "    <text x=\"228.1\" y=\"176.8\">C</text>\n",
       "    <text x=\"234.5\" y=\"157.1\">C</text>\n",
       "    <text x=\"237.3\" y=\"136.6\">G</text>\n",
       "    <text x=\"236.4\" y=\"115.9\">G</text>\n",
       "    <text x=\"231.8\" y=\"95.6\">U</text>\n",
       "    <text x=\"223.6\" y=\"76.6\">C</text>\n",
       "    <text x=\"212.2\" y=\"59.3\">G</text>\n",
       "    <text x=\"197.9\" y=\"44.3\">A</text>\n",
       "    <text x=\"181.1\" y=\"32.1\">C</text>\n",
       "    <text x=\"162.4\" y=\"23.1\">U</text>\n",
       "    <text x=\"142.4\" y=\"17.6\">C</text>\n",
       "    <text x=\"121.7\" y=\"15.7\">C</text>\n",
       "    <text x=\"101.1\" y=\"17.6\">G</text>\n",
       "    <text x=\"81.1\" y=\"23.1\">G</text>\n",
       "    <text x=\"62.4\" y=\"32.1\">A</text>\n",
       "    <text x=\"45.6\" y=\"44.3\">G</text>\n",
       "    <text x=\"31.3\" y=\"59.3\">A</text>\n",
       "    <text x=\"19.9\" y=\"76.6\">A</text>\n",
       "    <text x=\"11.7\" y=\"95.6\">A</text>\n",
       "    <text x=\"7.1\" y=\"115.9\">C</text>\n",
       "    <text x=\"6.2\" y=\"136.6\">A</text>\n",
       "    <text x=\"9.0\" y=\"157.1\">A</text>\n",
       "    <text x=\"15.4\" y=\"176.8\">A</text>\n",
       "    <text x=\"25.2\" y=\"195.1\">G</text>\n",
       "    <text x=\"38.1\" y=\"211.3\">U</text>\n",
       "    <text x=\"53.7\" y=\"225.0\">C</text>\n",
       "    <text x=\"71.6\" y=\"235.6\">A</text>\n",
       "    <text x=\"91.0\" y=\"242.9\">A</text>\n",
       "</g>\n",
       "<g stroke=\"#555\" stroke-width=\"1.58\">\n",
       "    <line x1=\"166.1\" y1=\"234.8\" x2=\"168.0\" y2=\"234.1\"/>\n",
       "    <line x1=\"184.8\" y1=\"226.0\" x2=\"186.5\" y2=\"225.0\"/>\n",
       "    <line x1=\"201.6\" y1=\"214.0\" x2=\"203.1\" y2=\"212.7\"/>\n",
       "    <line x1=\"216.0\" y1=\"199.2\" x2=\"217.3\" y2=\"197.6\"/>\n",
       "    <line x1=\"227.5\" y1=\"182.0\" x2=\"228.5\" y2=\"180.3\"/>\n",
       "    <line x1=\"235.8\" y1=\"163.1\" x2=\"236.5\" y2=\"161.2\"/>\n",
       "    <line x1=\"240.6\" y1=\"143.0\" x2=\"240.9\" y2=\"141.0\"/>\n",
       "    <line x1=\"241.7\" y1=\"122.4\" x2=\"241.6\" y2=\"120.4\"/>\n",
       "    <line x1=\"239.1\" y1=\"101.9\" x2=\"238.7\" y2=\"99.9\"/>\n",
       "    <line x1=\"232.9\" y1=\"82.2\" x2=\"232.1\" y2=\"80.4\"/>\n",
       "    <line x1=\"223.3\" y1=\"63.9\" x2=\"222.2\" y2=\"62.3\"/>\n",
       "    <line x1=\"210.5\" y1=\"47.7\" x2=\"209.1\" y2=\"46.2\"/>\n",
       "    <line x1=\"195.1\" y1=\"33.9\" x2=\"193.5\" y2=\"32.8\"/>\n",
       "    <line x1=\"177.5\" y1=\"23.2\" x2=\"175.7\" y2=\"22.3\"/>\n",
       "    <line x1=\"158.2\" y1=\"15.8\" x2=\"156.2\" y2=\"15.2\"/>\n",
       "    <line x1=\"137.9\" y1=\"11.9\" x2=\"135.9\" y2=\"11.7\"/>\n",
       "    <line x1=\"117.2\" y1=\"11.7\" x2=\"115.2\" y2=\"11.9\"/>\n",
       "    <line x1=\"96.9\" y1=\"15.2\" x2=\"94.9\" y2=\"15.8\"/>\n",
       "    <line x1=\"77.5\" y1=\"22.3\" x2=\"75.7\" y2=\"23.2\"/>\n",
       "    <line x1=\"59.6\" y1=\"32.8\" x2=\"58.0\" y2=\"33.9\"/>\n",
       "    <line x1=\"44.0\" y1=\"46.2\" x2=\"42.6\" y2=\"47.7\"/>\n",
       "    <line x1=\"31.0\" y1=\"62.3\" x2=\"29.9\" y2=\"63.9\"/>\n",
       "    <line x1=\"21.0\" y1=\"80.4\" x2=\"20.2\" y2=\"82.2\"/>\n",
       "    <line x1=\"14.5\" y1=\"99.9\" x2=\"14.0\" y2=\"101.9\"/>\n",
       "    <line x1=\"11.5\" y1=\"120.4\" x2=\"11.4\" y2=\"122.4\"/>\n",
       "    <line x1=\"12.3\" y1=\"141.0\" x2=\"12.5\" y2=\"143.0\"/>\n",
       "    <line x1=\"16.7\" y1=\"161.2\" x2=\"17.3\" y2=\"163.1\"/>\n",
       "    <line x1=\"24.6\" y1=\"180.3\" x2=\"25.6\" y2=\"182.0\"/>\n",
       "    <line x1=\"35.9\" y1=\"197.6\" x2=\"37.1\" y2=\"199.2\"/>\n",
       "    <line x1=\"50.0\" y1=\"212.7\" x2=\"51.5\" y2=\"214.0\"/>\n",
       "    <line x1=\"66.6\" y1=\"225.0\" x2=\"68.3\" y2=\"226.0\"/>\n",
       "    <line x1=\"85.1\" y1=\"234.1\" x2=\"87.0\" y2=\"234.8\"/>\n",
       "</g>\n",
       "<g stroke-width=\"1.58\" fill=\"none\" >\n",
       "    <path  d=\"M 216.6 183.5 A 524.1 524.1 0 0 1 73.7 34.0\" stroke=\"#526D82\"/>\n",
       "    <path  d=\"M 226.5 165.3 A 296.7 296.7 0 0 1 92.4 25.0\" stroke=\"#526D82\"/>\n",
       "    <path  d=\"M 232.9 145.5 A 211.7 211.7 0 0 1 112.4 19.5\" stroke=\"#526D82\"/>\n",
       "    <path  d=\"M 235.7 125.0 A 168.8 168.8 0 0 1 133.0 17.7\" stroke=\"#526D82\"/>\n",
       "    <path  d=\"M 234.7 104.3 A 144.2 144.2 0 0 1 153.7 19.5\" stroke=\"#526D82\"/>\n",
       "    <path  d=\"M 65.0 213.4 A 868.8 868.8 0 0 1 210.5 61.2\" stroke=\"#B70404\"/>\n",
       "    <path  d=\"M 49.4 199.7 A 2599.4 2599.4 0 0 1 196.2 46.2\" stroke=\"#B70404\"/>\n",
       "    <path  d=\"M 179.4 34.0 A 524.1 524.1 0 0 1 36.5 183.5\" stroke=\"#B70404\"/>\n",
       "</g>\n",
       "</svg>"
      ],
      "text/plain": [
       "bpRNA_PDB_108\n",
       "GAAUUCCGGUCGACUCCGGAGAAACAAAGUCAA\n",
       "....(((((..[[[.)))))........]]].."
      ]
     },
     "execution_count": 6,
     "metadata": {},
     "output_type": "execute_result"
    }
   ],
   "source": [
    "# Jupyter svg representation\n",
    "na"
   ]
  },
  {
   "attachments": {},
   "cell_type": "markdown",
   "id": "44d3a235",
   "metadata": {},
   "source": [
    "Get attributes from NA"
   ]
  },
  {
   "cell_type": "code",
   "execution_count": 7,
   "id": "996f8ad0",
   "metadata": {},
   "outputs": [
    {
     "data": {
      "text/plain": [
       "'GAAUUCCGGUCGACUCCGGAGAAACAAAGUCAA'"
      ]
     },
     "execution_count": 7,
     "metadata": {},
     "output_type": "execute_result"
    }
   ],
   "source": [
    "na.seq"
   ]
  },
  {
   "cell_type": "code",
   "execution_count": 8,
   "id": "944fa809",
   "metadata": {},
   "outputs": [
    {
     "data": {
      "text/plain": [
       "'....(((((..[[[.)))))........]]]..'"
      ]
     },
     "execution_count": 8,
     "metadata": {},
     "output_type": "execute_result"
    }
   ],
   "source": [
    "na.struct"
   ]
  },
  {
   "attachments": {},
   "cell_type": "markdown",
   "id": "383cbf4c",
   "metadata": {},
   "source": [
    "## Work with NA graph"
   ]
  },
  {
   "cell_type": "code",
   "execution_count": 9,
   "id": "0e72d1e9",
   "metadata": {},
   "outputs": [
    {
     "data": {
      "image/svg+xml": [
       "<svg version = \"1.1\" baseProfile=\"full\" xmlns = \"http://www.w3.org/2000/svg\" xmlns:xlink = \"http://www.w3.org/1999/xlink\" xmlns:ev = \"http://www.w3.org/2001/xml-events\" height = \"325.0px\"  width = \"325.0px\">\n",
       "<g stroke-width=\"1.50\" fill=\"none\">\n",
       "    <circle cx=\"187.4px\" cy=\"314.4px\" r=\"6.8px\" stroke=\"#99627A\"/>\n",
       "    <circle cx=\"203.7px\" cy=\"310.8px\" r=\"6.8px\" stroke=\"#E74646\"/>\n",
       "    <circle cx=\"219.5px\" cy=\"305.5px\" r=\"6.8px\" stroke=\"#1F8A70\"/>\n",
       "    <circle cx=\"234.6px\" cy=\"298.5px\" r=\"6.8px\" stroke=\"#1F8A70\"/>\n",
       "    <circle cx=\"248.9px\" cy=\"289.9px\" r=\"6.8px\" stroke=\"#E74646\"/>\n",
       "    <circle cx=\"262.2px\" cy=\"279.8px\" r=\"6.8px\" stroke=\"#E74646\"/>\n",
       "    <circle cx=\"274.3px\" cy=\"268.4px\" r=\"6.8px\" stroke=\"#99627A\"/>\n",
       "    <circle cx=\"285.0px\" cy=\"255.7px\" r=\"6.8px\" stroke=\"#068DA9\"/>\n",
       "    <circle cx=\"294.4px\" cy=\"241.9px\" r=\"6.8px\" stroke=\"#E74646\"/>\n",
       "    <circle cx=\"302.2px\" cy=\"227.1px\" r=\"6.8px\" stroke=\"#99627A\"/>\n",
       "    <circle cx=\"308.4px\" cy=\"211.6px\" r=\"6.8px\" stroke=\"#99627A\"/>\n",
       "    <circle cx=\"312.8px\" cy=\"195.6px\" r=\"6.8px\" stroke=\"#068DA9\"/>\n",
       "    <circle cx=\"315.5px\" cy=\"179.1px\" r=\"6.8px\" stroke=\"#99627A\"/>\n",
       "    <circle cx=\"316.4px\" cy=\"162.5px\" r=\"6.8px\" stroke=\"#1F8A70\"/>\n",
       "    <circle cx=\"315.5px\" cy=\"145.9px\" r=\"6.8px\" stroke=\"#1F8A70\"/>\n",
       "    <circle cx=\"312.8px\" cy=\"129.4px\" r=\"6.8px\" stroke=\"#99627A\"/>\n",
       "    <circle cx=\"308.4px\" cy=\"113.4px\" r=\"6.8px\" stroke=\"#99627A\"/>\n",
       "    <circle cx=\"302.2px\" cy=\"97.9px\" r=\"6.8px\" stroke=\"#99627A\"/>\n",
       "    <circle cx=\"294.4px\" cy=\"83.1px\" r=\"6.8px\" stroke=\"#068DA9\"/>\n",
       "    <circle cx=\"285.0px\" cy=\"69.3px\" r=\"6.8px\" stroke=\"#E74646\"/>\n",
       "    <circle cx=\"274.3px\" cy=\"56.6px\" r=\"6.8px\" stroke=\"#1F8A70\"/>\n",
       "    <circle cx=\"262.2px\" cy=\"45.2px\" r=\"6.8px\" stroke=\"#068DA9\"/>\n",
       "    <circle cx=\"248.9px\" cy=\"35.1px\" r=\"6.8px\" stroke=\"#068DA9\"/>\n",
       "    <circle cx=\"234.6px\" cy=\"26.5px\" r=\"6.8px\" stroke=\"#E74646\"/>\n",
       "    <circle cx=\"219.5px\" cy=\"19.5px\" r=\"6.8px\" stroke=\"#E74646\"/>\n",
       "    <circle cx=\"203.7px\" cy=\"14.2px\" r=\"6.8px\" stroke=\"#068DA9\"/>\n",
       "    <circle cx=\"187.4px\" cy=\"10.6px\" r=\"6.8px\" stroke=\"#1F8A70\"/>\n",
       "    <circle cx=\"170.8px\" cy=\"8.8px\" r=\"6.8px\" stroke=\"#99627A\"/>\n",
       "    <circle cx=\"154.2px\" cy=\"8.8px\" r=\"6.8px\" stroke=\"#E74646\"/>\n",
       "    <circle cx=\"137.6px\" cy=\"10.6px\" r=\"6.8px\" stroke=\"#068DA9\"/>\n",
       "    <circle cx=\"121.3px\" cy=\"14.2px\" r=\"6.8px\" stroke=\"#068DA9\"/>\n",
       "    <circle cx=\"105.5px\" cy=\"19.5px\" r=\"6.8px\" stroke=\"#99627A\"/>\n",
       "    <circle cx=\"90.4px\" cy=\"26.5px\" r=\"6.8px\" stroke=\"#99627A\"/>\n",
       "    <circle cx=\"76.1px\" cy=\"35.1px\" r=\"6.8px\" stroke=\"#99627A\"/>\n",
       "    <circle cx=\"62.8px\" cy=\"45.2px\" r=\"6.8px\" stroke=\"#99627A\"/>\n",
       "    <circle cx=\"50.7px\" cy=\"56.6px\" r=\"6.8px\" stroke=\"#99627A\"/>\n",
       "    <circle cx=\"40.0px\" cy=\"69.3px\" r=\"6.8px\" stroke=\"#99627A\"/>\n",
       "    <circle cx=\"30.6px\" cy=\"83.1px\" r=\"6.8px\" stroke=\"#99627A\"/>\n",
       "    <circle cx=\"22.8px\" cy=\"97.9px\" r=\"6.8px\" stroke=\"#99627A\"/>\n",
       "    <circle cx=\"16.6px\" cy=\"113.4px\" r=\"6.8px\" stroke=\"#99627A\"/>\n",
       "    <circle cx=\"12.2px\" cy=\"129.4px\" r=\"6.8px\" stroke=\"#99627A\"/>\n",
       "    <circle cx=\"9.5px\" cy=\"145.9px\" r=\"6.8px\" stroke=\"#99627A\"/>\n",
       "    <circle cx=\"8.6px\" cy=\"162.5px\" r=\"6.8px\" stroke=\"#99627A\"/>\n",
       "    <circle cx=\"9.5px\" cy=\"179.1px\" r=\"6.8px\" stroke=\"#99627A\"/>\n",
       "    <circle cx=\"12.2px\" cy=\"195.6px\" r=\"6.8px\" stroke=\"#99627A\"/>\n",
       "    <circle cx=\"16.6px\" cy=\"211.6px\" r=\"6.8px\" stroke=\"#99627A\"/>\n",
       "    <circle cx=\"22.8px\" cy=\"227.1px\" r=\"6.8px\" stroke=\"#068DA9\"/>\n",
       "    <circle cx=\"30.6px\" cy=\"241.9px\" r=\"6.8px\" stroke=\"#068DA9\"/>\n",
       "    <circle cx=\"40.0px\" cy=\"255.7px\" r=\"6.8px\" stroke=\"#068DA9\"/>\n",
       "    <circle cx=\"50.7px\" cy=\"268.4px\" r=\"6.8px\" stroke=\"#99627A\"/>\n",
       "    <circle cx=\"62.8px\" cy=\"279.8px\" r=\"6.8px\" stroke=\"#99627A\"/>\n",
       "    <circle cx=\"76.1px\" cy=\"289.9px\" r=\"6.8px\" stroke=\"#1F8A70\"/>\n",
       "    <circle cx=\"90.4px\" cy=\"298.5px\" r=\"6.8px\" stroke=\"#99627A\"/>\n",
       "    <circle cx=\"105.5px\" cy=\"305.5px\" r=\"6.8px\" stroke=\"#E74646\"/>\n",
       "    <circle cx=\"121.3px\" cy=\"310.8px\" r=\"6.8px\" stroke=\"#E74646\"/>\n",
       "    <circle cx=\"137.6px\" cy=\"314.4px\" r=\"6.8px\" stroke=\"#068DA9\"/>\n",
       "</g>\n",
       "<g font-weight=\"bold\" font-size=\"10.67px\">\n",
       "    <text x=\"183.7\" y=\"318.1\">A</text>\n",
       "    <text x=\"199.9\" y=\"314.6\">G</text>\n",
       "    <text x=\"215.7\" y=\"309.2\">U</text>\n",
       "    <text x=\"230.9\" y=\"302.2\">U</text>\n",
       "    <text x=\"245.1\" y=\"293.6\">G</text>\n",
       "    <text x=\"258.4\" y=\"283.6\">G</text>\n",
       "    <text x=\"270.5\" y=\"272.1\">A</text>\n",
       "    <text x=\"281.3\" y=\"259.4\">C</text>\n",
       "    <text x=\"290.7\" y=\"245.6\">G</text>\n",
       "    <text x=\"298.5\" y=\"230.9\">A</text>\n",
       "    <text x=\"304.6\" y=\"215.4\">A</text>\n",
       "    <text x=\"309.1\" y=\"199.3\">C</text>\n",
       "    <text x=\"311.8\" y=\"182.9\">A</text>\n",
       "    <text x=\"312.7\" y=\"166.2\">U</text>\n",
       "    <text x=\"311.8\" y=\"149.6\">U</text>\n",
       "    <text x=\"309.1\" y=\"133.1\">A</text>\n",
       "    <text x=\"304.6\" y=\"117.1\">A</text>\n",
       "    <text x=\"298.5\" y=\"101.6\">A</text>\n",
       "    <text x=\"290.7\" y=\"86.9\">C</text>\n",
       "    <text x=\"281.3\" y=\"73.1\">G</text>\n",
       "    <text x=\"270.5\" y=\"60.4\">U</text>\n",
       "    <text x=\"258.4\" y=\"48.9\">C</text>\n",
       "    <text x=\"245.1\" y=\"38.8\">C</text>\n",
       "    <text x=\"230.9\" y=\"30.2\">G</text>\n",
       "    <text x=\"215.7\" y=\"23.2\">G</text>\n",
       "    <text x=\"199.9\" y=\"17.9\">C</text>\n",
       "    <text x=\"183.7\" y=\"14.3\">U</text>\n",
       "    <text x=\"167.1\" y=\"12.5\">A</text>\n",
       "    <text x=\"150.4\" y=\"12.5\">G</text>\n",
       "    <text x=\"133.9\" y=\"14.3\">C</text>\n",
       "    <text x=\"117.6\" y=\"17.9\">C</text>\n",
       "    <text x=\"101.8\" y=\"23.2\">A</text>\n",
       "    <text x=\"86.7\" y=\"30.2\">A</text>\n",
       "    <text x=\"72.4\" y=\"38.8\">A</text>\n",
       "    <text x=\"59.1\" y=\"48.9\">A</text>\n",
       "    <text x=\"47.0\" y=\"60.4\">A</text>\n",
       "    <text x=\"36.2\" y=\"73.1\">A</text>\n",
       "    <text x=\"26.9\" y=\"86.9\">A</text>\n",
       "    <text x=\"19.1\" y=\"101.6\">A</text>\n",
       "    <text x=\"12.9\" y=\"117.1\">A</text>\n",
       "    <text x=\"8.4\" y=\"133.1\">A</text>\n",
       "    <text x=\"5.7\" y=\"149.6\">A</text>\n",
       "    <text x=\"4.8\" y=\"166.2\">A</text>\n",
       "    <text x=\"5.7\" y=\"182.9\">A</text>\n",
       "    <text x=\"8.4\" y=\"199.3\">A</text>\n",
       "    <text x=\"12.9\" y=\"215.4\">A</text>\n",
       "    <text x=\"19.1\" y=\"230.9\">C</text>\n",
       "    <text x=\"26.9\" y=\"245.6\">C</text>\n",
       "    <text x=\"36.2\" y=\"259.4\">C</text>\n",
       "    <text x=\"47.0\" y=\"272.1\">A</text>\n",
       "    <text x=\"59.1\" y=\"283.6\">A</text>\n",
       "    <text x=\"72.4\" y=\"293.6\">U</text>\n",
       "    <text x=\"86.7\" y=\"302.2\">A</text>\n",
       "    <text x=\"101.8\" y=\"309.2\">G</text>\n",
       "    <text x=\"117.6\" y=\"314.6\">G</text>\n",
       "    <text x=\"133.9\" y=\"318.1\">C</text>\n",
       "</g>\n",
       "<g stroke=\"#555\" stroke-width=\"1.50\">\n",
       "    <line x1=\"194.8\" y1=\"312.8\" x2=\"196.3\" y2=\"312.4\"/>\n",
       "    <line x1=\"210.8\" y1=\"308.4\" x2=\"212.3\" y2=\"307.9\"/>\n",
       "    <line x1=\"226.3\" y1=\"302.3\" x2=\"227.8\" y2=\"301.7\"/>\n",
       "    <line x1=\"241.1\" y1=\"294.6\" x2=\"242.4\" y2=\"293.8\"/>\n",
       "    <line x1=\"254.9\" y1=\"285.3\" x2=\"256.2\" y2=\"284.4\"/>\n",
       "    <line x1=\"267.6\" y1=\"274.6\" x2=\"268.8\" y2=\"273.5\"/>\n",
       "    <line x1=\"279.1\" y1=\"262.6\" x2=\"280.2\" y2=\"261.4\"/>\n",
       "    <line x1=\"289.3\" y1=\"249.4\" x2=\"290.2\" y2=\"248.1\"/>\n",
       "    <line x1=\"297.9\" y1=\"235.2\" x2=\"298.7\" y2=\"233.8\"/>\n",
       "    <line x1=\"305.0\" y1=\"220.1\" x2=\"305.6\" y2=\"218.7\"/>\n",
       "    <line x1=\"310.4\" y1=\"204.4\" x2=\"310.8\" y2=\"202.9\"/>\n",
       "    <line x1=\"314.0\" y1=\"188.2\" x2=\"314.3\" y2=\"186.6\"/>\n",
       "    <line x1=\"315.9\" y1=\"171.6\" x2=\"316.0\" y2=\"170.0\"/>\n",
       "    <line x1=\"316.0\" y1=\"155.0\" x2=\"315.9\" y2=\"153.4\"/>\n",
       "    <line x1=\"314.3\" y1=\"138.4\" x2=\"314.0\" y2=\"136.8\"/>\n",
       "    <line x1=\"310.8\" y1=\"122.1\" x2=\"310.4\" y2=\"120.6\"/>\n",
       "    <line x1=\"305.6\" y1=\"106.3\" x2=\"305.0\" y2=\"104.9\"/>\n",
       "    <line x1=\"298.7\" y1=\"91.2\" x2=\"297.9\" y2=\"89.8\"/>\n",
       "    <line x1=\"290.2\" y1=\"76.9\" x2=\"289.3\" y2=\"75.6\"/>\n",
       "    <line x1=\"280.2\" y1=\"63.6\" x2=\"279.1\" y2=\"62.4\"/>\n",
       "    <line x1=\"268.8\" y1=\"51.5\" x2=\"267.6\" y2=\"50.4\"/>\n",
       "    <line x1=\"256.2\" y1=\"40.6\" x2=\"254.9\" y2=\"39.7\"/>\n",
       "    <line x1=\"242.4\" y1=\"31.2\" x2=\"241.1\" y2=\"30.4\"/>\n",
       "    <line x1=\"227.8\" y1=\"23.3\" x2=\"226.3\" y2=\"22.7\"/>\n",
       "    <line x1=\"212.3\" y1=\"17.1\" x2=\"210.8\" y2=\"16.6\"/>\n",
       "    <line x1=\"196.3\" y1=\"12.6\" x2=\"194.8\" y2=\"12.2\"/>\n",
       "    <line x1=\"179.9\" y1=\"9.8\" x2=\"178.3\" y2=\"9.6\"/>\n",
       "    <line x1=\"163.3\" y1=\"8.8\" x2=\"161.7\" y2=\"8.8\"/>\n",
       "    <line x1=\"146.7\" y1=\"9.6\" x2=\"145.1\" y2=\"9.8\"/>\n",
       "    <line x1=\"130.2\" y1=\"12.2\" x2=\"128.7\" y2=\"12.6\"/>\n",
       "    <line x1=\"114.2\" y1=\"16.6\" x2=\"112.7\" y2=\"17.1\"/>\n",
       "    <line x1=\"98.7\" y1=\"22.7\" x2=\"97.2\" y2=\"23.3\"/>\n",
       "    <line x1=\"83.9\" y1=\"30.4\" x2=\"82.6\" y2=\"31.2\"/>\n",
       "    <line x1=\"70.1\" y1=\"39.7\" x2=\"68.8\" y2=\"40.6\"/>\n",
       "    <line x1=\"57.4\" y1=\"50.4\" x2=\"56.2\" y2=\"51.5\"/>\n",
       "    <line x1=\"45.9\" y1=\"62.4\" x2=\"44.8\" y2=\"63.6\"/>\n",
       "    <line x1=\"35.7\" y1=\"75.6\" x2=\"34.8\" y2=\"76.9\"/>\n",
       "    <line x1=\"27.1\" y1=\"89.8\" x2=\"26.3\" y2=\"91.2\"/>\n",
       "    <line x1=\"20.0\" y1=\"104.9\" x2=\"19.4\" y2=\"106.3\"/>\n",
       "    <line x1=\"14.6\" y1=\"120.6\" x2=\"14.2\" y2=\"122.1\"/>\n",
       "    <line x1=\"11.0\" y1=\"136.8\" x2=\"10.7\" y2=\"138.4\"/>\n",
       "    <line x1=\"9.1\" y1=\"153.4\" x2=\"9.0\" y2=\"155.0\"/>\n",
       "    <line x1=\"9.0\" y1=\"170.0\" x2=\"9.1\" y2=\"171.6\"/>\n",
       "    <line x1=\"10.7\" y1=\"186.6\" x2=\"11.0\" y2=\"188.2\"/>\n",
       "    <line x1=\"14.2\" y1=\"202.9\" x2=\"14.6\" y2=\"204.4\"/>\n",
       "    <line x1=\"19.4\" y1=\"218.7\" x2=\"20.0\" y2=\"220.1\"/>\n",
       "    <line x1=\"26.3\" y1=\"233.8\" x2=\"27.1\" y2=\"235.2\"/>\n",
       "    <line x1=\"34.8\" y1=\"248.1\" x2=\"35.7\" y2=\"249.4\"/>\n",
       "    <line x1=\"44.8\" y1=\"261.4\" x2=\"45.9\" y2=\"262.6\"/>\n",
       "    <line x1=\"56.2\" y1=\"273.5\" x2=\"57.4\" y2=\"274.6\"/>\n",
       "    <line x1=\"68.8\" y1=\"284.4\" x2=\"70.1\" y2=\"285.3\"/>\n",
       "    <line x1=\"82.6\" y1=\"293.8\" x2=\"83.9\" y2=\"294.6\"/>\n",
       "    <line x1=\"97.2\" y1=\"301.7\" x2=\"98.7\" y2=\"302.3\"/>\n",
       "    <line x1=\"112.7\" y1=\"307.9\" x2=\"114.2\" y2=\"308.4\"/>\n",
       "    <line x1=\"128.7\" y1=\"312.4\" x2=\"130.2\" y2=\"312.8\"/>\n",
       "</g>\n",
       "<g stroke-width=\"1.50\" fill=\"none\" >\n",
       "    <path  d=\"M 113.1 305.5 A 166.2 166.2 0 0 1 211.9 305.5\" stroke=\"#526D82\"/>\n",
       "    <path  d=\"M 97.9 298.5 A 174.7 174.7 0 0 1 227.1 298.5\" stroke=\"#526D82\"/>\n",
       "    <path  d=\"M 30.1 229.1 A 238.5 238.5 0 0 1 241.6 287.9\" stroke=\"#526D82\"/>\n",
       "    <path  d=\"M 23.9 213.7 A 275.1 275.1 0 0 1 254.9 277.8\" stroke=\"#526D82\"/>\n",
       "    <path  d=\"M 295.6 234.4 A 166.2 166.2 0 0 1 311.6 136.8\" stroke=\"#526D82\"/>\n",
       "    <path  d=\"M 303.4 219.7 A 160.2 160.2 0 0 1 314.3 153.3\" stroke=\"#526D82\"/>\n",
       "    <path  d=\"M 310.0 188.6 A 186.5 186.5 0 0 1 251.7 42.1\" stroke=\"#B70404\"/>\n",
       "    <path  d=\"M 312.7 172.1 A 174.7 174.7 0 0 1 264.9 52.2\" stroke=\"#B70404\"/>\n",
       "    <path  d=\"M 295.1 95.5 A 224.5 224.5 0 0 1 97.5 28.9\" stroke=\"#526D82\"/>\n",
       "    <path  d=\"M 287.3 80.7 A 202.6 202.6 0 0 1 112.7 21.9\" stroke=\"#526D82\"/>\n",
       "    <path  d=\"M 277.9 66.9 A 186.5 186.5 0 0 1 128.5 16.6\" stroke=\"#526D82\"/>\n",
       "    <path  d=\"M 197.7 18.7 A 255.1 255.1 0 0 1 14.6 157.9\" stroke=\"#B70404\"/>\n",
       "    <path  d=\"M 181.4 15.2 A 224.5 224.5 0 0 1 15.5 141.3\" stroke=\"#B70404\"/>\n",
       "    <path  d=\"M 164.8 13.4 A 202.6 202.6 0 0 1 18.2 124.8\" stroke=\"#B70404\"/>\n",
       "    <path  d=\"M 148.2 13.4 A 186.5 186.5 0 0 1 22.6 108.8\" stroke=\"#B70404\"/>\n",
       "    <path  d=\"M 50.7 64.2 A 212.6 212.6 0 0 1 50.7 260.8\" stroke=\"#B70404\"/>\n",
       "    <path  d=\"M 40.0 76.9 A 193.9 193.9 0 0 1 40.0 248.1\" stroke=\"#B70404\"/>\n",
       "</g>\n",
       "</svg>"
      ],
      "text/plain": [
       "AGUUGGACGAACAUUAAACGUCCGGCUAGCCAAAAAAAAAAAAAAACCCAAUAGGC\n",
       "..((((..((.[[.)).(((.]]..[[[[.)))..{{..]]]]..)).}}..)).."
      ]
     },
     "execution_count": 9,
     "metadata": {},
     "output_type": "execute_result"
    }
   ],
   "source": [
    "na = NA('AGUUGGACGAACAUUAAACGUCCGGCUAGCCAAAAAAAAAAAAAAACCCAAUAGGC', \n",
    "        '..((((..((.[[.)).{{{.]]..((((.}}}..[[..))))..)).]]..))..')\n",
    "na"
   ]
  },
  {
   "attachments": {},
   "cell_type": "markdown",
   "id": "5aaaf823",
   "metadata": {},
   "source": [
    "**nskit** can parse structure graph into complementary pairs and helixes"
   ]
  },
  {
   "cell_type": "code",
   "execution_count": 10,
   "id": "5a0bd184",
   "metadata": {},
   "outputs": [
    {
     "name": "stdout",
     "output_type": "stream",
     "text": [
      "All secondary structure pairs:\n",
      "[(2, 53), (3, 52), (4, 46), (5, 45), (8, 15), (9, 14), (11, 22), (12, 21), (17, 32), (18, 31), (19, 30), (25, 42), (26, 41), (27, 40), (28, 39), (35, 49), (36, 48)] \n",
      "\n",
      "All secondary structure helixes:\n",
      "((2, 3), (52, 53))\n",
      "((4, 5), (45, 46))\n",
      "((8, 9), (14, 15))\n",
      "((11, 12), (21, 22))\n",
      "((17, 18, 19), (30, 31, 32))\n",
      "((25, 26, 27, 28), (39, 40, 41, 42))\n",
      "((35, 36), (48, 49))\n",
      "\n",
      "Indexes of knot helixes:\n",
      "(3, 5, 6) \n",
      "\n",
      "Knot helixes orders:\n",
      "(0, 0, 0, 1, 0, 1, 2) \n",
      "\n",
      "Secondary structure knot pairs:\n",
      "[(11, 22), (12, 21), (25, 42), (26, 41), (27, 40), (28, 39), (35, 49), (36, 48)] \n",
      "\n",
      "Secondary structure knot helixes:\n",
      "((11, 12), (21, 22))\n",
      "((25, 26, 27, 28), (39, 40, 41, 42))\n",
      "((35, 36), (48, 49))\n"
     ]
    }
   ],
   "source": [
    "print(\"All secondary structure pairs:\")\n",
    "print(na.pairs, '\\n')\n",
    "\n",
    "print(\"All secondary structure helixes:\")\n",
    "for h in na.helixes:\n",
    "    print(h)\n",
    "print('')\n",
    "\n",
    "print(\"Indexes of knot helixes:\")\n",
    "print(na.knots, '\\n')\n",
    "\n",
    "print(\"Knot helixes orders:\")\n",
    "print(na.helix_orders, '\\n')\n",
    "\n",
    "print(\"Secondary structure knot pairs:\")\n",
    "print(na.knot_pairs, '\\n')\n",
    "\n",
    "print(\"Secondary structure knot helixes:\")\n",
    "for h in na.knot_helixes:\n",
    "    print(h)"
   ]
  },
  {
   "attachments": {},
   "cell_type": "markdown",
   "id": "65d2900e",
   "metadata": {},
   "source": [
    "## Work with adjacency matrix"
   ]
  },
  {
   "cell_type": "code",
   "execution_count": 11,
   "id": "fdb48348",
   "metadata": {},
   "outputs": [],
   "source": [
    "import matplotlib.pyplot as plt\n",
    "import numpy as np"
   ]
  },
  {
   "attachments": {},
   "cell_type": "markdown",
   "id": "c49837b8",
   "metadata": {},
   "source": [
    "Get adjacency from NA"
   ]
  },
  {
   "cell_type": "code",
   "execution_count": 12,
   "id": "21edef87",
   "metadata": {},
   "outputs": [
    {
     "data": {
      "text/plain": [
       "<matplotlib.image.AxesImage at 0x7f710a3249d0>"
      ]
     },
     "execution_count": 12,
     "metadata": {},
     "output_type": "execute_result"
    },
    {
     "data": {
      "image/png": "[encoded data removed]",
      "text/plain": [
       "<Figure size 432x288 with 1 Axes>"
      ]
     },
     "metadata": {
      "needs_background": "light"
     },
     "output_type": "display_data"
    }
   ],
   "source": [
    "na = NA('GAAUUCCGGUCGACUCCGGAGAAACAAAGUCAA', \n",
    "        '....(((((..[[[.)))))........]]]..')\n",
    "\n",
    "adj = na.get_adjacency()\n",
    "plt.imshow(adj)"
   ]
  },
  {
   "attachments": {},
   "cell_type": "markdown",
   "id": "105138c4",
   "metadata": {},
   "source": [
    "Create NA from adjacency"
   ]
  },
  {
   "cell_type": "code",
   "execution_count": 14,
   "id": "11900edd",
   "metadata": {},
   "outputs": [
    {
     "name": "stdout",
     "output_type": "stream",
     "text": [
      "GAAUUCCGGUCGACUCCGGAGAAACAAAGUCAA\n",
      "....(((((..[[[.)))))........]]]..\n"
     ]
    }
   ],
   "source": [
    "na_adj = NucleicAcid.from_adjacency(adj, seq=na.seq)\n",
    "print(na_adj)"
   ]
  },
  {
   "attachments": {},
   "cell_type": "markdown",
   "id": "00d6a796",
   "metadata": {},
   "source": [
    "# I/O operations"
   ]
  },
  {
   "attachments": {},
   "cell_type": "markdown",
   "id": "d2ff35af",
   "metadata": {},
   "source": [
    "**nskit** supports reading and writing of the following formats:\n",
    "- **Fasta** with only sequnce divided into multiple lines by 80 nb\n",
    "- Extended **DotBracket** with sequence, secondary structure and meta information\n",
    "- **bpseq**\n",
    "- **PDB**, only reading with parsing of secondary structure based on hydrogen bonds energy \n",
    "\n",
    "You can easily Read and Write structures using **with** context manager"
   ]
  },
  {
   "attachments": {},
   "cell_type": "markdown",
   "id": "7a4ee011",
   "metadata": {},
   "source": [
    "## DotBracket"
   ]
  },
  {
   "cell_type": "code",
   "execution_count": null,
   "id": "d18d4772",
   "metadata": {},
   "outputs": [],
   "source": [
    "with DotRead(\"path\", \n",
    "              raise_na_errors=False, # By default DotRead will return None on erroneous structures\n",
    "              filter_linear_structures=False, \n",
    "              ignore_unclosed_bonds=False\n",
    "              ) as f:\n",
    "    for na in f: # iterate over NucleicAcid objects \n",
    "        ..."
   ]
  },
  {
   "cell_type": "code",
   "execution_count": null,
   "id": "8fa6d2bb",
   "metadata": {},
   "outputs": [],
   "source": [
    "na = NA('GAAUUCCGGUCGACUCCGGAGAAACAAAGUCAA', \n",
    "        '....(((((..[[[.)))))........]]]..')\n",
    "\n",
    "with DotWrite(\"path\", \n",
    "                append=False # you can append new structures to file\n",
    "               ) as w:\n",
    "    w.write(na, \n",
    "            # By default DotWrite will write structure and meta information\n",
    "            write_struct = True,\n",
    "            write_meta = True\n",
    "           )"
   ]
  },
  {
   "attachments": {},
   "cell_type": "markdown",
   "id": "186b3204",
   "metadata": {},
   "source": [
    "DotWrite can write lines from list or tuple without validation"
   ]
  },
  {
   "cell_type": "code",
   "execution_count": null,
   "id": "107b5f45",
   "metadata": {},
   "outputs": [],
   "source": [
    "with DotWrite(\"path\") as w:\n",
    "    w.write(['Seq1', 'AAUU', '(..)']) # first argument must be name"
   ]
  },
  {
   "attachments": {},
   "cell_type": "markdown",
   "id": "d13ecb04",
   "metadata": {},
   "source": [
    "## Fasta"
   ]
  },
  {
   "cell_type": "code",
   "execution_count": null,
   "id": "e24229bf",
   "metadata": {},
   "outputs": [],
   "source": [
    "with FastaRead(\"path\", \n",
    "              raise_na_errors=False, # By default FastaRead will return None on erroneous structures\n",
    "              ) as f:\n",
    "    for na in f: # iterate over NucleicAcid objects \n",
    "        ..."
   ]
  },
  {
   "attachments": {},
   "cell_type": "markdown",
   "id": "60718b73",
   "metadata": {},
   "source": [
    "FastaWrite splits sequence by chunks of 80 characters"
   ]
  },
  {
   "cell_type": "code",
   "execution_count": null,
   "id": "a8b5ca81",
   "metadata": {},
   "outputs": [],
   "source": [
    "na = NA('GAAUUCCGGUCGACUCCGGAGAAACAAAGUCAA', \n",
    "        '....(((((..[[[.)))))........]]]..')\n",
    "\n",
    "with FastaWrite(\"path\", \n",
    "                append=False # By default FastaRead will return None on erroneous structures\n",
    "               ) as w:\n",
    "    w.write(na)"
   ]
  },
  {
   "attachments": {},
   "cell_type": "markdown",
   "id": "71e4d6ce",
   "metadata": {},
   "source": [
    "## bpseq"
   ]
  },
  {
   "attachments": {},
   "cell_type": "markdown",
   "id": "5f0a8157",
   "metadata": {},
   "source": [
    "To read individual file"
   ]
  },
  {
   "cell_type": "code",
   "execution_count": null,
   "id": "472bad97",
   "metadata": {},
   "outputs": [],
   "source": [
    "with bpseqRead(\"path\") as f:\n",
    "    na = f.read()"
   ]
  },
  {
   "attachments": {},
   "cell_type": "markdown",
   "id": "cb354262",
   "metadata": {},
   "source": [
    "To iterate over files with \".bpseq\" format in directory and read them"
   ]
  },
  {
   "cell_type": "code",
   "execution_count": null,
   "id": "cc6463dd",
   "metadata": {},
   "outputs": [],
   "source": [
    "with bpseqDirRead(\"dir_path\") as f:\n",
    "    for na in f:\n",
    "        ..."
   ]
  },
  {
   "cell_type": "code",
   "execution_count": null,
   "id": "d2406fbf",
   "metadata": {},
   "outputs": [],
   "source": [
    "na = NA('GAAUUCCGGUCGACUCCGGAGAAACAAAGUCAA', \n",
    "        '....(((((..[[[.)))))........]]]..')\n",
    "\n",
    "with bpseqWrite(\"path\") as w:\n",
    "    w.write(na)"
   ]
  },
  {
   "attachments": {},
   "cell_type": "markdown",
   "id": "c38f128d",
   "metadata": {},
   "source": [
    "## PDB"
   ]
  },
  {
   "attachments": {},
   "cell_type": "markdown",
   "id": "e455f81a",
   "metadata": {},
   "source": [
    "**nskit** allows to parse pdb file and secondary structure of a nucleic acid using 10-12 hydrogen bond potentials.</br>\n",
    "**pdbParse** can read complexes of nas with proteins and ligands, ignoring them."
   ]
  },
  {
   "cell_type": "code",
   "execution_count": 14,
   "id": "78518773",
   "metadata": {},
   "outputs": [],
   "source": [
    "parser = pdbParse()\n",
    "nas = parser.parse(\"../Seq1859_tr.pdb\")"
   ]
  },
  {
   "cell_type": "code",
   "execution_count": 15,
   "id": "81d851d2",
   "metadata": {},
   "outputs": [
    {
     "data": {
      "text/plain": [
       "[Seq1859_tr\n",
       " AUUUAACAUCAAGAGUAGGGCUGACGUCCUCACCAACCUGCCAACCUGGGCAAGGUGGUUGCUAUAAAGCGAUGUGGUCGAUUCCGACAACGAAUCAGGUAGAC\n",
       " .....(((((....(.((((((..))))))).((.(((((..[[[[.....)))))))............)))))(((((....)))))........]]]]...,\n",
       " Seq1859_tr\n",
       " AUUUAACAUCAAGAGUAGGGCUGACGUCCUCACCAACCUGCCAACCUGGGCAAGGUGGUUGCUAUAAAGCGAUGUGGUCGAUUCCGACAACGAAUCAGGUAGAC\n",
       " .....(((((....(.((((((..)))))))(((..(((((..[[[[..)).))).)))...........)))))((((((..)))))).......]]]]....]"
      ]
     },
     "execution_count": 15,
     "metadata": {},
     "output_type": "execute_result"
    }
   ],
   "source": [
    "nas # pdbParse parces all na chains in file by default"
   ]
  },
  {
   "cell_type": "code",
   "execution_count": 16,
   "id": "7d6d4913",
   "metadata": {},
   "outputs": [],
   "source": [
    "parser = pdbParse()\n",
    "nas = parser.parse(\"../Seq1859_tr.pdb\",\n",
    "                ignore_nonstandard_residues = False, # to ignore modified nucleic bases\n",
    "                with_energy_matrix = True, # return matrix of hydrogen bond energies\n",
    "                return_single_chain = True, # parse only first chain in the file\n",
    "                )"
   ]
  },
  {
   "cell_type": "code",
   "execution_count": 17,
   "id": "480ab90c",
   "metadata": {},
   "outputs": [
    {
     "data": {
      "text/plain": [
       "1"
      ]
     },
     "execution_count": 17,
     "metadata": {},
     "output_type": "execute_result"
    }
   ],
   "source": [
    "len(nas)"
   ]
  },
  {
   "cell_type": "code",
   "execution_count": 18,
   "id": "bfa8649b",
   "metadata": {},
   "outputs": [
    {
     "data": {
      "text/plain": [
       "Seq1859_tr\n",
       "AUUUAACAUCAAGAGUAGGGCUGACGUCCUCACCAACCUGCCAACCUGGGCAAGGUGGUUGCUAUAAAGCGAUGUGGUCGAUUCCGACAACGAAUCAGGUAGAC\n",
       ".....(((((....(.((((((..))))))).((.(((((..[[[[.....)))))))............)))))(((((....)))))........]]]]..."
      ]
     },
     "execution_count": 18,
     "metadata": {},
     "output_type": "execute_result"
    }
   ],
   "source": [
    "na, M = nas[0]\n",
    "na"
   ]
  },
  {
   "cell_type": "code",
   "execution_count": 19,
   "id": "4c5146c5",
   "metadata": {},
   "outputs": [
    {
     "data": {
      "text/plain": [
       "<matplotlib.colorbar.Colorbar at 0x7f9525e1eac0>"
      ]
     },
     "execution_count": 19,
     "metadata": {},
     "output_type": "execute_result"
    },
    {
     "data": {
      "image/png": "[encoded data removed]",
      "text/plain": [
       "<Figure size 432x288 with 2 Axes>"
      ]
     },
     "metadata": {
      "needs_background": "light"
     },
     "output_type": "display_data"
    }
   ],
   "source": [
    "plt.imshow(M)\n",
    "plt.colorbar()"
   ]
  }
 ],
 "metadata": {
  "kernelspec": {
   "display_name": "alina_venv",
   "language": "python",
   "name": "alina_venv"
  },
  "language_info": {
   "codemirror_mode": {
    "name": "ipython",
    "version": 3
   },
   "file_extension": ".py",
   "mimetype": "text/x-python",
   "name": "python",
   "nbconvert_exporter": "python",
   "pygments_lexer": "ipython3",
   "version": "3.8.10"
  }
 },
 "nbformat": 4,
 "nbformat_minor": 5
}
